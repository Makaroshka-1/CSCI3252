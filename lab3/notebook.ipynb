{
 "cells": [
  {
   "cell_type": "markdown",
   "metadata": {},
   "source": [
    "## 185. Department Top Three Salaries"
   ]
  },
  {
   "cell_type": "code",
   "execution_count": null,
   "metadata": {
    "vscode": {
     "languageId": "sql"
    }
   },
   "outputs": [],
   "source": [
    "Create table If Not Exists Employee (id int, name varchar(255), salary int, departmentId int)\n",
    "Create table If Not Exists Department (id int, name varchar(255))\n",
    "Truncate table Employee\n",
    "insert into Employee (id, name, salary, departmentId) values ('1', 'Joe', '85000', '1')\n",
    "insert into Employee (id, name, salary, departmentId) values ('2', 'Henry', '80000', '2')\n",
    "insert into Employee (id, name, salary, departmentId) values ('3', 'Sam', '60000', '2')\n",
    "insert into Employee (id, name, salary, departmentId) values ('4', 'Max', '90000', '1')\n",
    "insert into Employee (id, name, salary, departmentId) values ('5', 'Janet', '69000', '1')\n",
    "insert into Employee (id, name, salary, departmentId) values ('6', 'Randy', '85000', '1')\n",
    "insert into Employee (id, name, salary, departmentId) values ('7', 'Will', '70000', '1')\n",
    "Truncate table Department\n",
    "insert into Department (id, name) values ('1', 'IT')\n",
    "insert into Department (id, name) values ('2', 'Sales')"
   ]
  },
  {
   "cell_type": "code",
   "execution_count": null,
   "metadata": {
    "vscode": {
     "languageId": "sql"
    }
   },
   "outputs": [],
   "source": [
    "SELECT department, employee, salary\n",
    "FROM\n",
    "(    \n",
    "    SELECT\n",
    "        dept.name AS department,\n",
    "        emp.name AS employee,\n",
    "        emp.salary AS salary,\n",
    "        DENSE_RANK() OVER(PARTITION BY dept.name ORDER BY emp.salary DESC) AS unqrk\n",
    "    FROM employee emp\n",
    "    JOIN department dept ON dept.id = emp.departmentid\n",
    ") AS table1\n",
    "WHERE unqrk < 4;"
   ]
  },
  {
   "cell_type": "markdown",
   "metadata": {},
   "source": [
    "## 262. Trips and Users\n"
   ]
  },
  {
   "cell_type": "code",
   "execution_count": null,
   "metadata": {
    "vscode": {
     "languageId": "sql"
    }
   },
   "outputs": [],
   "source": [
    "Create table If Not Exists Trips (id int, client_id int, driver_id int, city_id int, status ENUM('completed', 'cancelled_by_driver', 'cancelled_by_client'), request_at varchar(50))\n",
    "Create table If Not Exists Users (users_id int, banned varchar(50), role ENUM('client', 'driver', 'partner'))\n",
    "Truncate table Trips\n",
    "insert into Trips (id, client_id, driver_id, city_id, status, request_at) values ('1', '1', '10', '1', 'completed', '2013-10-01')\n",
    "insert into Trips (id, client_id, driver_id, city_id, status, request_at) values ('2', '2', '11', '1', 'cancelled_by_driver', '2013-10-01')\n",
    "insert into Trips (id, client_id, driver_id, city_id, status, request_at) values ('3', '3', '12', '6', 'completed', '2013-10-01')\n",
    "insert into Trips (id, client_id, driver_id, city_id, status, request_at) values ('4', '4', '13', '6', 'cancelled_by_client', '2013-10-01')\n",
    "insert into Trips (id, client_id, driver_id, city_id, status, request_at) values ('5', '1', '10', '1', 'completed', '2013-10-02')\n",
    "insert into Trips (id, client_id, driver_id, city_id, status, request_at) values ('6', '2', '11', '6', 'completed', '2013-10-02')\n",
    "insert into Trips (id, client_id, driver_id, city_id, status, request_at) values ('7', '3', '12', '6', 'completed', '2013-10-02')\n",
    "insert into Trips (id, client_id, driver_id, city_id, status, request_at) values ('8', '2', '12', '12', 'completed', '2013-10-03')\n",
    "insert into Trips (id, client_id, driver_id, city_id, status, request_at) values ('9', '3', '10', '12', 'completed', '2013-10-03')\n",
    "insert into Trips (id, client_id, driver_id, city_id, status, request_at) values ('10', '4', '13', '12', 'cancelled_by_driver', '2013-10-03')\n",
    "Truncate table Users\n",
    "insert into Users (users_id, banned, role) values ('1', 'No', 'client')\n",
    "insert into Users (users_id, banned, role) values ('2', 'Yes', 'client')\n",
    "insert into Users (users_id, banned, role) values ('3', 'No', 'client')\n",
    "insert into Users (users_id, banned, role) values ('4', 'No', 'client')\n",
    "insert into Users (users_id, banned, role) values ('10', 'No', 'driver')\n",
    "insert into Users (users_id, banned, role) values ('11', 'No', 'driver')\n",
    "insert into Users (users_id, banned, role) values ('12', 'No', 'driver')\n",
    "insert into Users (users_id, banned, role) values ('13', 'No', 'driver')"
   ]
  },
  {
   "cell_type": "code",
   "execution_count": null,
   "metadata": {
    "vscode": {
     "languageId": "sql"
    }
   },
   "outputs": [],
   "source": [
    "SELECT \n",
    "    request_at AS Day,\n",
    "    ROUND(\n",
    "        SUM(CASE WHEN STATUS != 'completed' THEN 1 ELSE 0 END) / COUNT(*), \n",
    "        2\n",
    "    ) AS `Cancellation Rate`\n",
    "FROM \n",
    "    trips t\n",
    "JOIN \n",
    "    users u1 \n",
    "    ON t.client_id = u1.users_id \n",
    "    AND u1.banned = 'No'\n",
    "JOIN \n",
    "    users u2 \n",
    "    ON t.driver_id = u2.users_id \n",
    "    AND u2.banned = 'No'\n",
    "WHERE \n",
    "    request_at BETWEEN '2013-10-01' AND '2013-10-03'\n",
    "GROUP BY \n",
    "    request_at;"
   ]
  },
  {
   "cell_type": "markdown",
   "metadata": {},
   "source": [
    "## 601. Human Traffic of Stadium"
   ]
  },
  {
   "cell_type": "code",
   "execution_count": null,
   "metadata": {
    "vscode": {
     "languageId": "sql"
    }
   },
   "outputs": [],
   "source": [
    "Create table If Not Exists Stadium (id int, visit_date DATE NULL, people int)\n",
    "Truncate table Stadium\n",
    "insert into Stadium (id, visit_date, people) values ('1', '2017-01-01', '10')\n",
    "insert into Stadium (id, visit_date, people) values ('2', '2017-01-02', '109')\n",
    "insert into Stadium (id, visit_date, people) values ('3', '2017-01-03', '150')\n",
    "insert into Stadium (id, visit_date, people) values ('4', '2017-01-04', '99')\n",
    "insert into Stadium (id, visit_date, people) values ('5', '2017-01-05', '145')\n",
    "insert into Stadium (id, visit_date, people) values ('6', '2017-01-06', '1455')\n",
    "insert into Stadium (id, visit_date, people) values ('7', '2017-01-07', '199')\n",
    "insert into Stadium (id, visit_date, people) values ('8', '2017-01-09', '188')"
   ]
  },
  {
   "cell_type": "code",
   "execution_count": null,
   "metadata": {
    "vscode": {
     "languageId": "sql"
    }
   },
   "outputs": [],
   "source": [
    "with q1 as (\n",
    "select *, \n",
    "     count(*) over( order by id range between current row and 2 following ) following_cnt,\n",
    "     count(*) over( order by id range between 2 preceding and current row ) preceding_cnt,\n",
    "     count(*) over( order by id range between 1 preceding and 1 following ) current_cnt\n",
    "from stadium\n",
    "where people > 99\n",
    ")\n",
    "select id, visit_date, people\n",
    "from q1\n",
    "where following_cnt = 3 or preceding_cnt = 3 or current_cnt = 3\n",
    "order by visit_date"
   ]
  },
  {
   "cell_type": "markdown",
   "metadata": {},
   "source": [
    "## 1204. Last Person to Fit in the Bus"
   ]
  },
  {
   "cell_type": "code",
   "execution_count": null,
   "metadata": {
    "vscode": {
     "languageId": "sql"
    }
   },
   "outputs": [],
   "source": [
    "Create table If Not Exists Queue (person_id int, person_name varchar(30), weight int, turn int)\n",
    "Truncate table Queue\n",
    "insert into Queue (person_id, person_name, weight, turn) values ('5', 'Alice', '250', '1')\n",
    "insert into Queue (person_id, person_name, weight, turn) values ('4', 'Bob', '175', '5')\n",
    "insert into Queue (person_id, person_name, weight, turn) values ('3', 'Alex', '350', '2')\n",
    "insert into Queue (person_id, person_name, weight, turn) values ('6', 'John Cena', '400', '3')\n",
    "insert into Queue (person_id, person_name, weight, turn) values ('1', 'Winston', '500', '6')\n",
    "insert into Queue (person_id, person_name, weight, turn) values ('2', 'Marie', '200', '4')"
   ]
  },
  {
   "cell_type": "code",
   "execution_count": null,
   "metadata": {
    "vscode": {
     "languageId": "sql"
    }
   },
   "outputs": [],
   "source": [
    "SELECT \n",
    "    q1.person_name\n",
    "FROM Queue q1 JOIN Queue q2 ON q1.turn >= q2.turn\n",
    "GROUP BY q1.turn\n",
    "HAVING SUM(q2.weight) <= 1000\n",
    "ORDER BY SUM(q2.weight) DESC\n",
    "LIMIT 1"
   ]
  },
  {
   "cell_type": "markdown",
   "metadata": {},
   "source": [
    "## 570. Managers with at Least 5 Direct Reports"
   ]
  },
  {
   "cell_type": "code",
   "execution_count": null,
   "metadata": {
    "vscode": {
     "languageId": "sql"
    }
   },
   "outputs": [],
   "source": [
    "Create table If Not Exists Employee (id int, name varchar(255), department varchar(255), managerId int)\n",
    "Truncate table Employee\n",
    "insert into Employee (id, name, department, managerId) values ('101', 'John', 'A', NULL)\n",
    "insert into Employee (id, name, department, managerId) values ('102', 'Dan', 'A', '101')\n",
    "insert into Employee (id, name, department, managerId) values ('103', 'James', 'A', '101')\n",
    "insert into Employee (id, name, department, managerId) values ('104', 'Amy', 'A', '101')\n",
    "insert into Employee (id, name, department, managerId) values ('105', 'Anne', 'A', '101')\n",
    "insert into Employee (id, name, department, managerId) values ('106', 'Ron', 'B', '101')"
   ]
  },
  {
   "cell_type": "code",
   "execution_count": null,
   "metadata": {
    "vscode": {
     "languageId": "sql"
    }
   },
   "outputs": [],
   "source": [
    "select name \n",
    "from Employee \n",
    "where id in (select managerId from Employee group by managerId \n",
    "having count(managerId)>4);"
   ]
  }
 ],
 "metadata": {
  "language_info": {
   "name": "python"
  }
 },
 "nbformat": 4,
 "nbformat_minor": 2
}
