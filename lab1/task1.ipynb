{
 "cells": [
  {
   "cell_type": "markdown",
   "metadata": {},
   "source": [
    "15 numpy operation on linear algebra, statistics and calculus."
   ]
  },
  {
   "cell_type": "markdown",
   "metadata": {},
   "source": [
    "Linear Algebra problems"
   ]
  },
  {
   "cell_type": "code",
   "execution_count": null,
   "metadata": {},
   "outputs": [],
   "source": [
    "import numpy as np\n",
    "\n",
    "A = np.random.randint(0,10,(5,5))\n",
    "B = np.random.randint(0,10,(5,5))\n",
    "\n",
    "# Dot product \n",
    "AxB = np.dot(A,B)\n",
    "\n",
    "#determinant of a matrix \n",
    "det_A = np.linalg.det(A)\n",
    "det_B = np.linalg.det(B)\n",
    "\n",
    "#inverse of a matrix\n",
    "A_inv = np.linalg.inv(A)\n",
    "B_inv = np.linalg.inv(B)\n",
    "\n",
    "#eigenvalues and eigenvectors \n",
    "eigenvalues_A , eigenvectors_A = np.linalg.eig(A)\n",
    "\n",
    "#system of linear equation solution\n",
    "C = np.random.randint(0,10,(5,5))\n",
    "b = np.random.randint(0,10,(5,1))\n",
    "\n",
    "x = np.linalg.solve(C,b)\n",
    "\n",
    "#print(A, '\\n\\n',B, '\\n\\n', 'A x B =', AxB )\n",
    "\n",
    "#print(det_A, '   ', det_B)\n",
    "\n",
    "#print(A,'  ',A_inv)\n",
    "\n",
    "#print(eigenvalues_A,'\\n\\n', eigenvectors_A)\n",
    "\n",
    "#print(x)\n"
   ]
  },
  {
   "cell_type": "markdown",
   "metadata": {},
   "source": [
    "Statistics problems"
   ]
  },
  {
   "cell_type": "code",
   "execution_count": 35,
   "metadata": {},
   "outputs": [
    {
     "name": "stdout",
     "output_type": "stream",
     "text": [
      "[[ 1.         -0.13014861]\n",
      " [-0.13014861  1.        ]]\n"
     ]
    }
   ],
   "source": [
    "data = np.random.randint(10,100,(1,100))\n",
    "data_2 = np.random.randint(20,200,(1,100))\n",
    "\n",
    "#mean \n",
    "mean_data = np.mean(data)\n",
    "\n",
    "#median\n",
    "median_data = np.median(data)\n",
    "\n",
    "#standard deviation\n",
    "std_value = np.std(data)\n",
    "\n",
    "#varience\n",
    "var_data = np.var(data)\n",
    "\n",
    "#correlation coefficient \n",
    "corr_coeff = np.corrcoef(data,data_2) \n",
    "\n",
    "print(corr_coeff)"
   ]
  },
  {
   "cell_type": "markdown",
   "metadata": {},
   "source": [
    "Calculus problems"
   ]
  },
  {
   "cell_type": "code",
   "execution_count": 36,
   "metadata": {},
   "outputs": [],
   "source": [
    "x = np.linspace(0, 10, 100)\n",
    "y = np.sin(x)\n",
    "\n",
    "#differentiation of function\n",
    "dy_dx = np.gradient(y, x)\n",
    "\n",
    "#finite integration approximation (trapz rule)\n",
    "integral = np.trapz(y, x)\n",
    "\n",
    "#partial derrivative approximation\n",
    "z = x**2 + y**2\n",
    "dz_dx = np.gradient(z,x)\n",
    "dz_dy = np.gradient(z,y)\n",
    "\n",
    "#second derrivative\n",
    "dy_dydx = np.gradient(np.gradient(y,x),x)\n",
    "\n"
   ]
  },
  {
   "cell_type": "code",
   "execution_count": null,
   "metadata": {},
   "outputs": [],
   "source": [
    "#double intergral approximation\n",
    "def f(x, y):\n",
    "    return (x + y) ** 2\n",
    "\n",
    "x = np.linspace(0, 1, 100)\n",
    "y = np.linspace(0, 1, 100)\n",
    "\n",
    "X, Y = np.meshgrid(x, y)\n",
    "\n",
    "Z = f(X, Y)\n",
    "\n",
    "dbl_integral = np.trapz(np.trapz(Z, x), y)"
   ]
  }
 ],
 "metadata": {
  "kernelspec": {
   "display_name": "Python 3",
   "language": "python",
   "name": "python3"
  },
  "language_info": {
   "codemirror_mode": {
    "name": "ipython",
    "version": 3
   },
   "file_extension": ".py",
   "mimetype": "text/x-python",
   "name": "python",
   "nbconvert_exporter": "python",
   "pygments_lexer": "ipython3",
   "version": "3.10.8"
  }
 },
 "nbformat": 4,
 "nbformat_minor": 2
}
