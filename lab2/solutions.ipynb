{
 "cells": [
  {
   "cell_type": "code",
   "execution_count": 64,
   "metadata": {},
   "outputs": [],
   "source": [
    "import numpy as np \n",
    "import pandas as pd  \n",
    "import matplotlib.pyplot as plt "
   ]
  },
  {
   "cell_type": "markdown",
   "metadata": {},
   "source": [
    "# Second highest salary"
   ]
  },
  {
   "cell_type": "code",
   "execution_count": 65,
   "metadata": {},
   "outputs": [
    {
     "data": {
      "text/html": [
       "<div>\n",
       "<style scoped>\n",
       "    .dataframe tbody tr th:only-of-type {\n",
       "        vertical-align: middle;\n",
       "    }\n",
       "\n",
       "    .dataframe tbody tr th {\n",
       "        vertical-align: top;\n",
       "    }\n",
       "\n",
       "    .dataframe thead th {\n",
       "        text-align: right;\n",
       "    }\n",
       "</style>\n",
       "<table border=\"1\" class=\"dataframe\">\n",
       "  <thead>\n",
       "    <tr style=\"text-align: right;\">\n",
       "      <th></th>\n",
       "      <th>id</th>\n",
       "      <th>salary</th>\n",
       "    </tr>\n",
       "  </thead>\n",
       "  <tbody>\n",
       "    <tr>\n",
       "      <th>0</th>\n",
       "      <td>1</td>\n",
       "      <td>100</td>\n",
       "    </tr>\n",
       "    <tr>\n",
       "      <th>1</th>\n",
       "      <td>2</td>\n",
       "      <td>200</td>\n",
       "    </tr>\n",
       "    <tr>\n",
       "      <th>2</th>\n",
       "      <td>3</td>\n",
       "      <td>300</td>\n",
       "    </tr>\n",
       "  </tbody>\n",
       "</table>\n",
       "</div>"
      ],
      "text/plain": [
       "   id  salary\n",
       "0   1     100\n",
       "1   2     200\n",
       "2   3     300"
      ]
     },
     "execution_count": 65,
     "metadata": {},
     "output_type": "execute_result"
    }
   ],
   "source": [
    "data = [[1, 100], [2, 200], [3, 300]]\n",
    "employee = pd.DataFrame(data, columns=['id', 'salary']).astype({'id':'int64', 'salary':'int64'})\n",
    "employee"
   ]
  },
  {
   "cell_type": "code",
   "execution_count": 66,
   "metadata": {},
   "outputs": [],
   "source": [
    "def second_highest_salary(employee: pd.DataFrame) -> pd.DataFrame:\n",
    "    salaries = pd.DataFrame(employee['salary'].unique(), columns=['unique_salaries'])\n",
    "    salaries = salaries.sort_values(by=['unique_salaries'],ascending=False)\n",
    "    if len(salaries)<=1:\n",
    "        return pd.DataFrame([None], columns =['SecondHighestSalary']) \n",
    "    result = pd.DataFrame(salaries.iloc[1]).T\n",
    "    result.columns = ['SecondHighestSalary']\n",
    "    return result \n"
   ]
  },
  {
   "cell_type": "code",
   "execution_count": 67,
   "metadata": {},
   "outputs": [
    {
     "data": {
      "text/html": [
       "<div>\n",
       "<style scoped>\n",
       "    .dataframe tbody tr th:only-of-type {\n",
       "        vertical-align: middle;\n",
       "    }\n",
       "\n",
       "    .dataframe tbody tr th {\n",
       "        vertical-align: top;\n",
       "    }\n",
       "\n",
       "    .dataframe thead th {\n",
       "        text-align: right;\n",
       "    }\n",
       "</style>\n",
       "<table border=\"1\" class=\"dataframe\">\n",
       "  <thead>\n",
       "    <tr style=\"text-align: right;\">\n",
       "      <th></th>\n",
       "      <th>SecondHighestSalary</th>\n",
       "    </tr>\n",
       "  </thead>\n",
       "  <tbody>\n",
       "    <tr>\n",
       "      <th>1</th>\n",
       "      <td>200</td>\n",
       "    </tr>\n",
       "  </tbody>\n",
       "</table>\n",
       "</div>"
      ],
      "text/plain": [
       "   SecondHighestSalary\n",
       "1                  200"
      ]
     },
     "execution_count": 67,
     "metadata": {},
     "output_type": "execute_result"
    }
   ],
   "source": [
    "second_highest_salary(employee)"
   ]
  },
  {
   "cell_type": "markdown",
   "metadata": {},
   "source": [
    "# Movie rating "
   ]
  },
  {
   "cell_type": "code",
   "execution_count": 68,
   "metadata": {},
   "outputs": [
    {
     "name": "stdout",
     "output_type": "stream",
     "text": [
      "   movie_id     title\n",
      "0         1  Avengers\n",
      "1         2  Frozen 2\n",
      "2         3     Joker \n",
      "\n",
      "    user_id    name\n",
      "0        1  Daniel\n",
      "1        2  Monica\n",
      "2        3   Maria\n",
      "3        4   James \n",
      "\n",
      "    movie_id  user_id  rating created_at\n",
      "0         1        1       3 2020-01-12\n",
      "1         1        2       4 2020-02-11\n",
      "2         1        3       2 2020-02-12\n",
      "3         1        4       1 2020-01-01\n",
      "4         2        1       5 2020-02-17\n",
      "5         2        2       2 2020-02-01\n",
      "6         2        3       2 2020-03-01\n",
      "7         3        1       3 2020-02-22\n",
      "8         3        2       4 2020-02-25\n"
     ]
    }
   ],
   "source": [
    "data = [[1, 'Avengers'], [2, 'Frozen 2'], [3, 'Joker']]\n",
    "movies = pd.DataFrame(data, columns=['movie_id', 'title']).astype({'movie_id':'Int64', 'title':'object'})\n",
    "data = [[1, 'Daniel'], [2, 'Monica'], [3, 'Maria'], [4, 'James']]\n",
    "users = pd.DataFrame(data, columns=['user_id', 'name']).astype({'user_id':'Int64', 'name':'object'})\n",
    "data = [[1, 1, 3, '2020-01-12'], [1, 2, 4, '2020-02-11'], [1, 3, 2, '2020-02-12'], [1, 4, 1, '2020-01-01'], [2, 1, 5, '2020-02-17'], [2, 2, 2, '2020-02-01'], [2, 3, 2, '2020-03-01'], [3, 1, 3, '2020-02-22'], [3, 2, 4, '2020-02-25']]\n",
    "movie_ratings = pd.DataFrame(data, columns=['movie_id', 'user_id', 'rating', 'created_at']).astype({'movie_id':'Int64', 'user_id':'Int64', 'rating':'Int64', 'created_at':'datetime64[ns]'})\n",
    "\n",
    "print(movies,'\\n\\n',users,'\\n\\n',movie_ratings)"
   ]
  },
  {
   "cell_type": "code",
   "execution_count": 69,
   "metadata": {},
   "outputs": [],
   "source": [
    "def movie_rating(movies: pd.DataFrame, users: pd.DataFrame, movie_rating: pd.DataFrame) -> pd.DataFrame:\n",
    "    \n",
    "    user_count = movie_rating.groupby('user_id').size().reset_index(name='rating_count')\n",
    "    user_count = pd.merge(user_count, users, on='user_id')\n",
    "    user_count = user_count.sort_values(by=['rating_count', 'name'], ascending=[False, True])\n",
    "    top_user = user_count.iloc[0]['name']\n",
    "    \n",
    "    feb_ratings = movie_rating[(movie_rating['created_at'] >= '2020-02-01') & \n",
    "                               (movie_rating['created_at'] <= '2020-02-29')]\n",
    "    feb_avg = feb_ratings.groupby('movie_id')['rating'].mean().reset_index(name='avg_rating')\n",
    "    feb_avg = pd.merge(feb_avg, movies, on='movie_id')\n",
    "    feb_avg = feb_avg.sort_values(by=['avg_rating', 'title'], ascending=[False, True])\n",
    "    top_movie = feb_avg.iloc[0]['title']\n",
    "    \n",
    "    return pd.DataFrame({'results': [top_user, top_movie]})\n"
   ]
  },
  {
   "cell_type": "code",
   "execution_count": 70,
   "metadata": {},
   "outputs": [
    {
     "data": {
      "text/html": [
       "<div>\n",
       "<style scoped>\n",
       "    .dataframe tbody tr th:only-of-type {\n",
       "        vertical-align: middle;\n",
       "    }\n",
       "\n",
       "    .dataframe tbody tr th {\n",
       "        vertical-align: top;\n",
       "    }\n",
       "\n",
       "    .dataframe thead th {\n",
       "        text-align: right;\n",
       "    }\n",
       "</style>\n",
       "<table border=\"1\" class=\"dataframe\">\n",
       "  <thead>\n",
       "    <tr style=\"text-align: right;\">\n",
       "      <th></th>\n",
       "      <th>results</th>\n",
       "    </tr>\n",
       "  </thead>\n",
       "  <tbody>\n",
       "    <tr>\n",
       "      <th>0</th>\n",
       "      <td>Daniel</td>\n",
       "    </tr>\n",
       "    <tr>\n",
       "      <th>1</th>\n",
       "      <td>Frozen 2</td>\n",
       "    </tr>\n",
       "  </tbody>\n",
       "</table>\n",
       "</div>"
      ],
      "text/plain": [
       "    results\n",
       "0    Daniel\n",
       "1  Frozen 2"
      ]
     },
     "execution_count": 70,
     "metadata": {},
     "output_type": "execute_result"
    }
   ],
   "source": [
    "movie_rating(movies=movies, users=users,movie_rating=movie_ratings)"
   ]
  },
  {
   "cell_type": "markdown",
   "metadata": {},
   "source": [
    "# Stock price\n"
   ]
  },
  {
   "cell_type": "code",
   "execution_count": 71,
   "metadata": {},
   "outputs": [
    {
     "data": {
      "text/html": [
       "<div>\n",
       "<style scoped>\n",
       "    .dataframe tbody tr th:only-of-type {\n",
       "        vertical-align: middle;\n",
       "    }\n",
       "\n",
       "    .dataframe tbody tr th {\n",
       "        vertical-align: top;\n",
       "    }\n",
       "\n",
       "    .dataframe thead th {\n",
       "        text-align: right;\n",
       "    }\n",
       "</style>\n",
       "<table border=\"1\" class=\"dataframe\">\n",
       "  <thead>\n",
       "    <tr style=\"text-align: right;\">\n",
       "      <th></th>\n",
       "      <th>stock_name</th>\n",
       "      <th>operation</th>\n",
       "      <th>operation_day</th>\n",
       "      <th>price</th>\n",
       "    </tr>\n",
       "  </thead>\n",
       "  <tbody>\n",
       "    <tr>\n",
       "      <th>0</th>\n",
       "      <td>Leetcode</td>\n",
       "      <td>Buy</td>\n",
       "      <td>1</td>\n",
       "      <td>1000</td>\n",
       "    </tr>\n",
       "    <tr>\n",
       "      <th>1</th>\n",
       "      <td>Corona Masks</td>\n",
       "      <td>Buy</td>\n",
       "      <td>2</td>\n",
       "      <td>10</td>\n",
       "    </tr>\n",
       "    <tr>\n",
       "      <th>2</th>\n",
       "      <td>Leetcode</td>\n",
       "      <td>Sell</td>\n",
       "      <td>5</td>\n",
       "      <td>9000</td>\n",
       "    </tr>\n",
       "    <tr>\n",
       "      <th>3</th>\n",
       "      <td>Handbags</td>\n",
       "      <td>Buy</td>\n",
       "      <td>17</td>\n",
       "      <td>30000</td>\n",
       "    </tr>\n",
       "    <tr>\n",
       "      <th>4</th>\n",
       "      <td>Corona Masks</td>\n",
       "      <td>Sell</td>\n",
       "      <td>3</td>\n",
       "      <td>1010</td>\n",
       "    </tr>\n",
       "    <tr>\n",
       "      <th>5</th>\n",
       "      <td>Corona Masks</td>\n",
       "      <td>Buy</td>\n",
       "      <td>4</td>\n",
       "      <td>1000</td>\n",
       "    </tr>\n",
       "    <tr>\n",
       "      <th>6</th>\n",
       "      <td>Corona Masks</td>\n",
       "      <td>Sell</td>\n",
       "      <td>5</td>\n",
       "      <td>500</td>\n",
       "    </tr>\n",
       "    <tr>\n",
       "      <th>7</th>\n",
       "      <td>Corona Masks</td>\n",
       "      <td>Buy</td>\n",
       "      <td>6</td>\n",
       "      <td>1000</td>\n",
       "    </tr>\n",
       "    <tr>\n",
       "      <th>8</th>\n",
       "      <td>Handbags</td>\n",
       "      <td>Sell</td>\n",
       "      <td>29</td>\n",
       "      <td>7000</td>\n",
       "    </tr>\n",
       "    <tr>\n",
       "      <th>9</th>\n",
       "      <td>Corona Masks</td>\n",
       "      <td>Sell</td>\n",
       "      <td>10</td>\n",
       "      <td>10000</td>\n",
       "    </tr>\n",
       "  </tbody>\n",
       "</table>\n",
       "</div>"
      ],
      "text/plain": [
       "     stock_name operation  operation_day  price\n",
       "0      Leetcode       Buy              1   1000\n",
       "1  Corona Masks       Buy              2     10\n",
       "2      Leetcode      Sell              5   9000\n",
       "3      Handbags       Buy             17  30000\n",
       "4  Corona Masks      Sell              3   1010\n",
       "5  Corona Masks       Buy              4   1000\n",
       "6  Corona Masks      Sell              5    500\n",
       "7  Corona Masks       Buy              6   1000\n",
       "8      Handbags      Sell             29   7000\n",
       "9  Corona Masks      Sell             10  10000"
      ]
     },
     "execution_count": 71,
     "metadata": {},
     "output_type": "execute_result"
    }
   ],
   "source": [
    "data = [['Leetcode', 'Buy', 1, 1000], ['Corona Masks', 'Buy', 2, 10],\n",
    "        ['Leetcode', 'Sell', 5, 9000], ['Handbags', 'Buy', 17, 30000], \n",
    "        ['Corona Masks', 'Sell', 3, 1010], ['Corona Masks', 'Buy', 4, 1000], \n",
    "        ['Corona Masks', 'Sell', 5, 500], ['Corona Masks', 'Buy', 6, 1000],\n",
    "        ['Handbags', 'Sell', 29, 7000], ['Corona Masks', 'Sell', 10, 10000]]\n",
    "\n",
    "stocks = pd.DataFrame(data, columns=['stock_name', 'operation', 'operation_day', 'price']).astype(\n",
    "        {'stock_name':'object', 'operation':'object', 'operation_day':'Int64', 'price':'Int64'})\n",
    "\n",
    "stocks"
   ]
  },
  {
   "cell_type": "code",
   "execution_count": 72,
   "metadata": {},
   "outputs": [],
   "source": [
    "def stock_price(stocks: pd.DataFrame) -> pd.DataFrame: \n",
    "    gain_loss = {}\n",
    "\n",
    "    for stock in stocks['stock_name'].unique():\n",
    "        buy_stack = []  \n",
    "        total_gain_loss = 0\n",
    "        stock_data = stocks[stocks['stock_name'] == stock]\n",
    "\n",
    "        for index, row in stock_data.iterrows():\n",
    "            if row['operation'] == 'Buy':\n",
    "                buy_stack.append(row['price'])\n",
    "            elif row['operation'] == 'Sell' and buy_stack:\n",
    "                buy_price = buy_stack.pop(0)\n",
    "                total_gain_loss += (row['price'] - buy_price)\n",
    "\n",
    "        gain_loss[stock] = total_gain_loss\n",
    "        \n",
    "    result_df = pd.DataFrame(list(gain_loss.items()), columns=['stock_name', 'capital_gain_loss'])\n",
    "    return (result_df)"
   ]
  },
  {
   "cell_type": "code",
   "execution_count": 73,
   "metadata": {},
   "outputs": [
    {
     "data": {
      "text/html": [
       "<div>\n",
       "<style scoped>\n",
       "    .dataframe tbody tr th:only-of-type {\n",
       "        vertical-align: middle;\n",
       "    }\n",
       "\n",
       "    .dataframe tbody tr th {\n",
       "        vertical-align: top;\n",
       "    }\n",
       "\n",
       "    .dataframe thead th {\n",
       "        text-align: right;\n",
       "    }\n",
       "</style>\n",
       "<table border=\"1\" class=\"dataframe\">\n",
       "  <thead>\n",
       "    <tr style=\"text-align: right;\">\n",
       "      <th></th>\n",
       "      <th>stock_name</th>\n",
       "      <th>capital_gain_loss</th>\n",
       "    </tr>\n",
       "  </thead>\n",
       "  <tbody>\n",
       "    <tr>\n",
       "      <th>0</th>\n",
       "      <td>Leetcode</td>\n",
       "      <td>8000</td>\n",
       "    </tr>\n",
       "    <tr>\n",
       "      <th>1</th>\n",
       "      <td>Corona Masks</td>\n",
       "      <td>9500</td>\n",
       "    </tr>\n",
       "    <tr>\n",
       "      <th>2</th>\n",
       "      <td>Handbags</td>\n",
       "      <td>-23000</td>\n",
       "    </tr>\n",
       "  </tbody>\n",
       "</table>\n",
       "</div>"
      ],
      "text/plain": [
       "     stock_name  capital_gain_loss\n",
       "0      Leetcode               8000\n",
       "1  Corona Masks               9500\n",
       "2      Handbags             -23000"
      ]
     },
     "execution_count": 73,
     "metadata": {},
     "output_type": "execute_result"
    }
   ],
   "source": [
    "stock_price(stocks)"
   ]
  }
 ],
 "metadata": {
  "kernelspec": {
   "display_name": "Python 3",
   "language": "python",
   "name": "python3"
  },
  "language_info": {
   "codemirror_mode": {
    "name": "ipython",
    "version": 3
   },
   "file_extension": ".py",
   "mimetype": "text/x-python",
   "name": "python",
   "nbconvert_exporter": "python",
   "pygments_lexer": "ipython3",
   "version": "3.10.8"
  }
 },
 "nbformat": 4,
 "nbformat_minor": 2
}
